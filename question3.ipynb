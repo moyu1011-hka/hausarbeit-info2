{
 "cells": [
  {
   "cell_type": "code",
   "execution_count": 1,
   "id": "cf4dbdca",
   "metadata": {},
   "outputs": [],
   "source": [
    "import requests\n",
    "import matplotlib.pyplot as plt\n",
    "import pandas as pd\n",
    "from datetime import datetime\n",
    "from api_key_coingecko import API_KEY"
   ]
  },
  {
   "cell_type": "code",
   "execution_count": 2,
   "id": "277d1c29",
   "metadata": {},
   "outputs": [],
   "source": [
    "url = f\"https://api.coingecko.com/api/v3/coins/bitcoin/market_chart\" #api end point \n",
    "\n",
    "days_to_analyse = 2\n",
    "currency = 'usd'\n",
    "\n",
    "headers = {\n",
    "    \"accept\": \"application/json\",\n",
    "    \"x-cg-demo-api-key\": API_KEY\n",
    "}\n",
    "\n",
    "params = {\n",
    "    'vs_currency' : currency,\n",
    "    'days' : str(days_to_analyse)\n",
    "}\n",
    "\n",
    "response = requests.get(url, params=params, headers=headers)\n",
    "data = response.json()\n",
    "\n",
    "weekday_order = ['Monday', 'Tuesday', 'Wednesday', 'Thursday', 'Friday', 'Saturday', 'Sunday']\n",
    "\n",
    "# ========== 1. Топ-5 криптовалют по капитализации (Pie Chart) ==========\n",
    "def top_5_marketcap():\n",
    "    url = f'{base_url}/coins/markets'\n",
    "    params = {\n",
    "        'vs_currency': currency,\n",
    "        'order': 'market_cap_desc',\n",
    "        'per_page': 5,\n",
    "        'page': 1,\n",
    "        'sparkline': 'false'\n",
    "    }\n",
    "    response = requests.get(url, headers=headers, params=params).json()\n",
    "\n",
    "    labels = [coin['name'] for coin in response]\n",
    "    values = [coin['market_cap'] for coin in response]\n",
    "\n",
    "    plt.figure(figsize=(6, 6))\n",
    "    plt.pie(values, labels=labels, autopct='%1.1f%%', startangle=140)\n",
    "    plt.title('Top-5 Kryptowährungen nach Marktkapitalisierung (aktuell)')\n",
    "    plt.tight_layout()\n",
    "    plt.show()"
   ]
  },
  {
   "cell_type": "code",
   "execution_count": 3,
   "id": "78bc4a33",
   "metadata": {},
   "outputs": [],
   "source": [
    "def bitcoin_marketcap_history(days=365):\n",
    "    url = f'{base_url}/coins/bitcoin/market_chart'\n",
    "    params = {\n",
    "        'vs_currency': currency,\n",
    "        'days': days,\n",
    "        'interval': 'daily'\n",
    "    }\n",
    "    response = requests.get(url, headers=headers, params=params).json()\n",
    "    \n",
    "    market_caps = response['market_caps']\n",
    "    dates = [datetime.fromtimestamp(point[0] / 1000) for point in market_caps]\n",
    "    values = [point[1] for point in market_caps]\n",
    "\n",
    "    df = pd.DataFrame({'Date': dates, 'Market Cap': values})\n",
    "    df.set_index('Date', inplace=True)\n",
    "\n",
    "    plt.figure(figsize=(10, 5))\n",
    "    plt.plot(df.index, df['Market Cap'] / 1e9, label='Bitcoin')\n",
    "    plt.title('Капитализация Bitcoin за последний год')\n",
    "    plt.ylabel('Капитализация (млрд $)')\n",
    "    plt.xlabel('Дата')\n",
    "    plt.xticks(rotation=45)\n",
    "    plt.tight_layout()\n",
    "    plt.show()\n"
   ]
  }
 ],
 "metadata": {
  "kernelspec": {
   "display_name": "Python 3",
   "language": "python",
   "name": "python3"
  },
  "language_info": {
   "codemirror_mode": {
    "name": "ipython",
    "version": 3
   },
   "file_extension": ".py",
   "mimetype": "text/x-python",
   "name": "python",
   "nbconvert_exporter": "python",
   "pygments_lexer": "ipython3",
   "version": "3.11.9"
  }
 },
 "nbformat": 4,
 "nbformat_minor": 5
}
