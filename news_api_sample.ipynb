{
 "cells": [
  {
   "cell_type": "code",
   "execution_count": null,
   "metadata": {},
   "outputs": [
    {
     "name": "stdout",
     "output_type": "stream",
     "text": [
      "                                                                 title  \\\n",
      "published_on                                                             \n",
      "2025-01-09 22:51:08  Los Angeles Is Burning—And AI Deepfakes Are Fu...   \n",
      "2025-01-09 22:48:07  CFTC Sends Subpoena to Cryptocurrency Exchange...   \n",
      "2025-01-09 22:46:22  Polymarket under fire for California’s wildfir...   \n",
      "2025-01-09 22:45:45  UK Court Rejects James Howells’ Bid to Dig Up ...   \n",
      "2025-01-09 22:38:22  Family of Dead OpenAI Whistleblower Raises $14...   \n",
      "\n",
      "                                                                  body  \n",
      "published_on                                                            \n",
      "2025-01-09 22:51:08  No, the Hollywood sign isn't actually on fire:...  \n",
      "2025-01-09 22:48:07  Coinbase, one of the largest cryptocurrency ex...  \n",
      "2025-01-09 22:46:22  Blockchain-based predictions platform Polymark...  \n",
      "2025-01-09 22:45:45  A British IT worker, James Howells is pursuing...  \n",
      "2025-01-09 22:38:22  Former OpenAI employee Suchir Balaji was found...  \n"
     ]
    }
   ],
   "source": [
    "# connecting api \n",
    "import requests, pandas as pd, datetime as dt \n",
    "\n",
    "key = '4cd6289528ff34abc13da393cc1f90bf1596ef5e62b6d4a832b2cc94847ee13b'\n",
    "\n",
    "CC_KEY = key       # can also be blank (anon) until you hit 100 k calls\n",
    "\n",
    "def cc_news(category, lts, page_size=0):\n",
    "    url = \"https://min-api.cryptocompare.com/data/v2/news/\"\n",
    "  \n",
    "    params = { 'lang' : \"EN\",\n",
    "                'lTs' : lts,\n",
    "                'limit' : 5,\n",
    "                'sortOrder' : 'popular',\n",
    "                'categories': category, \n",
    "                'api_key' : CC_KEY,\n",
    "                'pg': page_size\n",
    "            }\n",
    "    \n",
    "    headers = {\n",
    "        'Content-type' : 'application/json',\n",
    "        'charset' : 'UTF-8'\n",
    "    }\n",
    "    response = requests.get(url, params=params, headers=headers)\n",
    "    return response.json()\n",
    "\n",
    "# sample\n",
    "cutoff = int(dt.datetime(2025,1,10).timestamp())   # upper-bound = oldest spike\n",
    "btc_headlines = cc_news(\"bitcoin dead\", cutoff)\n",
    "\n",
    "news = pd.DataFrame(btc_headlines['Data'], columns=['published_on', 'title', 'body'])\n",
    "news['published_on'] = pd.to_datetime(news['published_on'], unit='s')\n",
    "news.set_index('published_on', inplace=True)\n",
    "\n",
    "print(news.head(5))"
   ]
  },
  {
   "cell_type": "code",
   "execution_count": null,
   "metadata": {},
   "outputs": [],
   "source": []
  }
 ],
 "metadata": {
  "kernelspec": {
   "display_name": "base",
   "language": "python",
   "name": "python3"
  },
  "language_info": {
   "codemirror_mode": {
    "name": "ipython",
    "version": 3
   },
   "file_extension": ".py",
   "mimetype": "text/x-python",
   "name": "python",
   "nbconvert_exporter": "python",
   "pygments_lexer": "ipython3",
   "version": "3.12.7"
  }
 },
 "nbformat": 4,
 "nbformat_minor": 2
}
