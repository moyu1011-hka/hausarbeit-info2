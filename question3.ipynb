{
 "cells": [
  {
   "cell_type": "code",
   "execution_count": null,
   "id": "25bb207f",
   "metadata": {},
   "outputs": [],
   "source": [
    "import pandas as pd\n",
    "import matplotlib as plt #.pyplot\n",
    "import numpy as np\n",
    "import requests"
   ]
  },
  {
   "cell_type": "code",
   "execution_count": null,
   "id": "92729bd1",
   "metadata": {},
   "outputs": [],
   "source": [
    "from api_key_coingecko import API_KEY\n",
    "\n",
    "url = f\"https://api.coingecko.com/api/v3/coins/bitcoin/market_chart\" #api end point \n",
    "\n",
    "days_to_analyse = 30\n",
    "currency = 'usd'\n",
    "headers = {\n",
    "    \"accept\": \"application/json\",\n",
    "    \"x-cg-demo-api-key\": API_KEY\n",
    "}\n",
    "\n",
    "params = {\n",
    "    'vs_currency' : currency,\n",
    "    'days' : str(days_to_analyse)\n",
    "}\n",
    "\n",
    "response = requests.get(url, params=params, headers=headers)\n",
    "data = response.json()\n"
   ]
  },
  {
   "cell_type": "code",
   "execution_count": null,
   "id": "f67b2d09",
   "metadata": {},
   "outputs": [],
   "source": [
    "import nbimporter\n",
    "from IPython import get_ipython\n",
    "import test_coingecko_with_jupyter  # without `.ipynb` extension\n",
    "\n",
    "#load_tocken_prices(days = 30, currency = 'usd', token = 'bitcoin')"
   ]
  }
 ],
 "metadata": {
  "kernelspec": {
   "display_name": "Python 3",
   "language": "python",
   "name": "python3"
  },
  "language_info": {
   "name": "python",
   "version": "3.11.9"
  }
 },
 "nbformat": 4,
 "nbformat_minor": 5
}
