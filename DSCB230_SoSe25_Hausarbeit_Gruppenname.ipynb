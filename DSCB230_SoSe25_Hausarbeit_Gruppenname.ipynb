{
 "cells": [
  {
   "cell_type": "markdown",
   "id": "59085cf8-0967-453b-b882-dc6d67beb7e7",
   "metadata": {},
   "source": [
    "**DSCB230 Sommersemester 2025**\n",
    "# Hausarbeit - Datenauswertung am Beispiel eines Business-Anwendungsfalls\n",
    "Data Science Portfolioprojekt"
   ]
  },
  {
   "cell_type": "markdown",
   "id": "6121fced",
   "metadata": {},
   "source": [
    "Kryptoanalyse\n",
    "\n",
    "Fragen:\n",
    "1.\tWie ändert sich\n",
    "    -\tdie Volatilität (Volatilität misst, wie stark und wie schnell sich der Kurs einer Anlage in einem bestimmten Zeitraum ändert.)\n",
    "    -\tHandelsvolumen abhängig von der Uhrzeit/Wochentag\n",
    "\n",
    "2.\tWie korrelieren die Preise innerhalb eines Blockchain und zwischen verschiedenen Blockchains\n",
    "3.\tMarktkapitalisierung von Kryptowährungen (Grafiken)\n",
    "4.\tTrends für verschiedenen Kryptowährungen vergleichen, Ereignisse (z.B politische Ereignisse)\n",
    "\n"
   ]
  },
  {
   "cell_type": "markdown",
   "id": "6294f75c",
   "metadata": {},
   "source": [
    "APIs\n",
    "- https://www.coingecko.com/en/api\n",
    "- https://platform.openai.com\n",
    "- https://blockstream.info/explorer-api"
   ]
  },
  {
   "cell_type": "markdown",
   "id": "cdcc7e8a-5a90-4dee-9c4e-cd8191efc2ef",
   "metadata": {},
   "source": [
    "## Lernziele\n",
    "Das Ziel dieser Hausarbeit ist der begleitete Aufbau eines Portfolios an Projekten. Eine überzeugende Arbeitsprobe ist für potenzielle Arbeitgeber ein wichtigeres Kriterium als der Lebenslauf.\n",
    "\n",
    "In diesem Modul lernen Sie, wie Sie Arbeitgeber mit Ihren Arbeitsproben im Bereich Data Analytics und Data Science überzeugen können und welche Schwerpunkte für Sie geeignet sind. Gemeinsam mit Ihrem Dozenten wählen Sie geeignete Datensätze und Fragestellungen aus. Anschließend erarbeiten Sie daraus einzeln oder in Kleingruppen ein Projekt für Ihr Bewerbungsportfolio.\n",
    "\n",
    "__Im Überblick:__\n",
    "\n",
    "1. Eigenständiges Auswählen und professionelles Umsetzen von Data-Analytics- und Data-Science-Projekten\n",
    "2. Strukturierte Umsetzung von Projekten\n",
    "3. Sammeln von Erfahrungen in der arbeitsteiligen Gruppenarbeit\n",
    "4. Erheben und Realisieren von Anforderungen\n",
    "5. Durchführen einer Datenauswertung\n",
    "6. Lokales Erzeugen und Veröffentlichen von Projekten\n",
    "7. Präsentieren von Ergebnissen und Diskussion unter Verwendung von Fachsprache (Kolloquium)\n"
   ]
  },
  {
   "cell_type": "markdown",
   "id": "28da700c-e714-447a-933a-1c67c1e4d169",
   "metadata": {},
   "source": [
    "## Lehrinhalte\n",
    "1. Gegenseitiges Kennenlernen\n",
    "2. Ablauf und Einblick in die Bausteine\n",
    "3. Auswahl eines Datenprojektes:\n",
    "    - Grundlagen guter Projekte\n",
    "    - Beispielprojekte in Data Analytics und Data Science\n",
    "    - Quellen geeigneter Datensätze\n",
    "    - Lizenzen von Datensätzen\n",
    "    - Aufwandsabschätzung von Datenprojekten\n",
    "4. Setup der Arbeitsumgebung\n",
    "    - Lokale Installation von Python und benötigten Modulen\n",
    "    - Einführung in Git\n",
    "    - Kurzeinführung in GitHub\n",
    "5. Strukturiertes Arbeiten in Datenteams\n",
    "    - Data Analytics Workflow\n",
    "    - Data Science Workflow\n",
    "4. Beginn der Portfolioarbeit\n",
    "    - Vorbereitung und Kick-off\n",
    "    - Einteilung in Teams und Zuweisung zu vorgeschlagenen Projekten\n",
    "    - Erstellen eines Projektplans und Verteilung der Aufgaben\n",
    "5. Strukturierte Umsetzung der Hausarbeit\n",
    "    - Sprint-Reviews\n",
    "    - Business Case eruieren\n",
    "    - Datenerfassung und Datenvorverarbeitung durchführen\n",
    "    - Analyse der Daten\n",
    "    - Datenvisualisierung\n",
    "    - Storytelling\n",
    "6. Präsentieren von Ergebnissen und Diskussion unter Verwendung von Fachsprache (Kolloquium)\n",
    "    - Abschluss der Projektarbeit\n",
    "    - Erzeugen der Abschlusspräsentation\n",
    "    - Halten der Abschlusspräsentation vor den anderen Teams und dem Dozent"
   ]
  },
  {
   "cell_type": "markdown",
   "id": "68929315-1123-471b-80ac-55dbe38d4575",
   "metadata": {},
   "source": [
    "## Ablauf im Überblick\n",
    "- Gruppeneinteilung\n",
    "- Kick-off\n",
    "- Statusmeetings\n",
    "- Präsentation der Ergebnisse inkl. Lessons Learned\n",
    "- Abgabe in ILIAS"
   ]
  },
  {
   "cell_type": "markdown",
   "id": "08a5d9d6-5ea3-4534-ac7f-418ca3dbbf6e",
   "metadata": {},
   "source": [
    "### Kick-off (Projekt-Start)\n",
    "\n",
    "Ziele: Lernziele besprechen. Erwartungen klarstellen. Durchführung besprechen."
   ]
  },
  {
   "cell_type": "markdown",
   "id": "99ac9d8d-cd6f-4e4e-aaf7-3c7bc5d5dd38",
   "metadata": {},
   "source": [
    "### Statusmeetings (Sprint-Reviews)\n",
    "\n",
    "Ziel: Es geht hauptsächlich um die Art und Weise der Zusammenarbeit, um Herausforderungen und Verbesserungsmöglichkeiten.\n",
    "\n",
    "__Leitfragen:__\n",
    "- Dinge, die gut gelungen sind.\n",
    "- Dinge, die weniger gut gelaufen sind.\n",
    "- Dinge, die man direkt stoppen sollte.\n",
    "- Aspekte, die man ausprobieren könnte."
   ]
  },
  {
   "cell_type": "markdown",
   "id": "0ddc70c6-3c59-425f-8263-79ca535a1962",
   "metadata": {},
   "source": [
    "### Lessons Learned (Projekt-Review)\n",
    "\n",
    "Ziele: Gewonnene Erkenntnisse für die Beurteilung der Arbeitsergebnisse festhalten.\n",
    "\n",
    "Vorbereitung: Die Gruppe setzt sich zusammen, um wertvolle Erfahrungen zu identifizieren, sie zu analysieren und aus ihnen zu lernen.\n",
    "\n",
    "__Leitfragen:__\n",
    "- Was waren die angenehmsten Dinge?\n",
    "- Welches Problem bzw. welche Probleme sind aufgetreten?\n",
    "- Wie wurde mit Problemen und Unklarheiten umgegangen?\n",
    "- Welche Lösung wurde verwendet?\n",
    "- Welche Probleme konnten, nach eigenem Ermessen, besonders gut gelöst werden?\n",
    "- Welche Ergebnisse der Datenauswertung waren überraschend?\n",
    "- Welche Erkenntnisse konnten durch die Datenauswertung gewonnen werden?\n",
    "- Welche ihrer Erwartungen an die Erkenntnisse der Datenauswertung weichen ab?\n",
    "- Wie bewerten Sie selbst ihre Ergebnisse?\n",
    "- Welche Erwartung an die Hausarbeit wurde nicht erfüllt?"
   ]
  },
  {
   "cell_type": "markdown",
   "id": "a0786cf7-b241-4f10-a7af-08eb0a07b7f7",
   "metadata": {},
   "source": [
    "## Aufgabenstellung\n",
    "\n",
    "- Führen Sie eine Datenauswertung durch.\n",
    "- Orientieren Sie sich an den Beispielen und den Übungen aus der Vorlesung.\n",
    "- Dokumentieren Sie Ihre Arbeit in diesem Jupter Notebook. Abweichungen in andere Tools oder Anwendungen sind in Absprache mit dem Dozent möglich.\n",
    "- Verwenden Sie die [Markdown](https://www.markdownguide.org/cheat-sheet/)-Syntax, um Ihre Arbeit leserlich zu gestalten."
   ]
  },
  {
   "cell_type": "markdown",
   "id": "54d1fd8f-461e-4d1a-bcee-c81d92ed488e",
   "metadata": {},
   "source": [
    "## Abschlusspräsentation\n",
    "\n",
    "- Termine, siehe Gruppeneinteilung\n",
    "- Dauer ca. 20 min\n",
    "- Ablauf:\n",
    "    - Gruppe präsentiert ihre Datenauswertung im Plenum\n",
    "    - Mündliche Wiedergabe der __vorbereiteten__ Lessons Learned\n",
    "    - Erstellung einer Komposition von 1-4 Abbildungen (400 x 400 px, .png) der aussagekräftigsten Visualisierungen für das Archiv der Hausarbeiten\n",
    "    - Upload aller Dokumete in ILIAS als Zip-Archiv mit der Bezeichnung `DSCB230_SoSe25_Hausarbeit_Gruppenname.zip`\n"
   ]
  },
  {
   "cell_type": "markdown",
   "id": "17e6b63f-2f04-4b47-bd44-dd5ea2832fd8",
   "metadata": {
    "tags": []
   },
   "source": [
    "## Bewertung\n",
    "\n",
    "Maximal 9 Punkte (10% der Klausurpunkte) als Startwert für die Klausur. Die Punkte erhalten alle Gruppenmitglieder. Sollte eine differenzierte Bewertung gewünscht sein, sprechen Sie bitte den Dozent an.\n",
    "\n",
    "__Kriterien:__\n",
    "\n",
    "| Nr. | Kategorie                                        | Bewertungskriterium                                                                                         |\n",
    "|----:|:-------------------------------------------------|:------------------------------------------------------------------------------------------------------------|\n",
    "|  1  | Teamarbeit und Organisation                      | Aufgabenaufteilung                                                                                          |\n",
    "|  2  | Teamarbeit und Organisation                      | Domänenwissen                                                                                               |\n",
    "|  3  | Teamarbeit und Organisation                      | Fachsprache + Fachbegriffe                                                                                  |\n",
    "|  4  | Teamarbeit und Organisation                      | Lessons Learned                                                                                             |\n",
    "|  5  | Teamarbeit und Organisation                      | Nächste Schritte                                                                                            |\n",
    "|  6  | Teamarbeit und Organisation                      | Projektorganisation                                                                                         |\n",
    "|  7  | Teamarbeit und Organisation                      | Teamfähigkeit                                                                                               |\n",
    "|  8  | Struktur und Organisation                        | Gliederung: Ist die Arbeit sinnvoll gegliedert und folgen die Abschnitte einer klaren Struktur?             |\n",
    "|  9  | Struktur und Organisation                        | Klarheit und Verständlichkeit: Ist die Hausarbeit klar und verständlich geschrieben?                        |\n",
    "| 10  | Struktur und Organisation                        | Kohärenz und Logik: Wie gut sind die Argumente strukturiert und logisch aufgebaut?                          |\n",
    "| 11  | Struktur und Organisation                        | Zielgerichtetheit: Sind die Ziele der Arbeit klar definiert und erreicht?                                   |\n",
    "| 12  | Technische Aspekte der Datenverarbeitung und -analyse | Ausreisseridentifikation                                                                               |\n",
    "| 13  | Technische Aspekte der Datenverarbeitung und -analyse | Beachtung der Vorlage (.ipynb)                                                                         |\n",
    "| 14  | Technische Aspekte der Datenverarbeitung und -analyse | Data Cleaning                                                                                          |\n",
    "| 15  | Technische Aspekte der Datenverarbeitung und -analyse | Data Engineering                                                                                       |\n",
    "| 16  | Technische Aspekte der Datenverarbeitung und -analyse | Datenaktualität (Reload/Refresh)                                                                       |\n",
    "| 17  | Technische Aspekte der Datenverarbeitung und -analyse | Datenanalyse (Plots, Dashboard, etc.)                                                                  |\n",
    "| 18  | Technische Aspekte der Datenverarbeitung und -analyse | Datenanalyse inkl. Interaktion, Filter                                                                 |\n",
    "| 19  | Technische Aspekte der Datenverarbeitung und -analyse | Datenvisualisierung                                                                                    |\n",
    "| 20  | Technische Aspekte der Datenverarbeitung und -analyse | Fragestellung + Findings                                                                               |\n",
    "| 21  | Technische Aspekte der Datenverarbeitung und -analyse | Python Bibliotheken                                                                                    |\n",
    "| 22  | Kommunikation und Präsentation                  | Argumentationsfähigkeit                                                                                      |\n",
    "| 23  | Kommunikation und Präsentation                  | Erklärungsfähigkeit                                                                                          |\n",
    "| 24  | Kommunikation und Präsentation                  | Medienkompetenz Präsentation                                                                                 |\n",
    "| 25  | Kommunikation und Präsentation                  | Storytelling                                                                                                 |\n",
    "| 26  | Inhaltliche Qualität                            | Literaturrecherche: Wie gut ist die relevante Literatur recherchiert und eingebunden?                        |\n",
    "| 27  | Inhaltliche Qualität                            | Methodik: Angemessenheit und Korrektheit der gewählten Methoden zur Datenanalyse.                            |\n",
    "| 28  | Inhaltliche Qualität                            | Originalität der Fragestellung: Ist die Fragestellung innovativ und relevant?                                |\n",
    "| 29  | Inhaltliche Qualität                            | Tiefe der Analyse: Wie detailliert und fundiert ist die Analyse der Daten?                                   |\n",
    "| 30  | Präsentationsqualität                           | Präsentationsstil: Wie gut ist der Vortragsstil? Z.B. Sprechgeschwindigkeit, Betonung, Körperhaltung.        |\n",
    "| 31  | Präsentationsqualität                           | Publikumsinteraktion: Fähigkeit, auf Fragen und Rückmeldungen des Publikums einzugehen.                      |\n",
    "| 32  | Präsentationsqualität                           | Visuelle Hilfsmittel: Nutzung und Qualität von Präsentationsfolien und anderen visuellen Hilfsmitteln.       |\n",
    "| 33  | Präsentationsqualität                           | Zeitmanagement: Einhaltung der vorgegebenen Präsentationszeit.                                               |\n",
    "| 34  | Sprachliche und stilistische Aspekte            | Formale Anforderungen: Einhaltung von Zitierregeln, Formatvorgaben und wissenschaftlichem Schreibstil.       |\n",
    "| 35  | Sprachliche und stilistische Aspekte            | Sprachqualität: Rechtschreibung, Grammatik und Stil.                                                         |\n",
    "| 36  | Reflexion und Weiterentwicklung                 | Selbstreflexion: Fähigkeit, die eigene Arbeit kritisch zu reflektieren.                                      |\n",
    "| 37  | Reflexion und Weiterentwicklung                 | Weiterentwicklungspotenzial: Vorschläge für zukünftige Forschung oder Projektentwicklungen.                  |\n"
   ]
  },
  {
   "cell_type": "markdown",
   "id": "6568db5d-3f71-476b-8a65-2c4ae6c0d625",
   "metadata": {},
   "source": [
    "## Vorlage für Ihr Jupyter Notebook\n",
    "Sie können die folgende Inhaltsstruktur verwenden oder sich daran orientieren. Kopieren Sie den Inhalt in ein neues Jupyter Notebook."
   ]
  },
  {
   "cell_type": "markdown",
   "id": "aaec91a7-5b05-44c0-98f0-7f73a9461f89",
   "metadata": {},
   "source": [
    "**DSCB230 Sommersemester 2025**\n",
    "\n",
    "# Krypto Analyse"
   ]
  },
  {
   "cell_type": "markdown",
   "id": "69b205aa-24e5-4d1a-a410-9cebab4c0844",
   "metadata": {},
   "source": [
    "Gruppe | Studierende 1  | Studierende 2 | Studierende 3       | Studierende 4      |\n",
    "------ |----------------|---------------|---------------------|--------------------|\n",
    "`Kilo` | `Lymar, Olena` | `Kot, Vadym`  | `Morkovkina, Julia` | `Shteiner, Danylo` |"
   ]
  },
  {
   "cell_type": "markdown",
   "id": "c446f94c9060261c",
   "metadata": {},
   "source": [
    "## Einleitung"
   ]
  },
  {
   "cell_type": "markdown",
   "id": "6efb547bf836235b",
   "metadata": {},
   "source": [
    "Derzeit beträgt die Marktkapitalisierung von Kryptowährungen 3,4 Billionen US-Dollar – mehr als das BIP Frankreichs.\n",
    "\n",
    "Die einen sagen, die Zukunft der Kryptowährungen sei ungewiss, andere behaupten, sie könnten das bestehende Finanzsystem revolutionieren.\n",
    "Jedenfalls: Kryptowährungen sind längst ein fester Bestandteil unseres Alltags geworden, und wir sind uns sicher, dass sich jeder von euch schon einmal mit dem Thema beschäftigt hat.\n",
    "\n",
    "Auch wir bilden da keine Ausnahme – und genau deshalb hat uns eine Frage besonders interessiert: Wie lassen sich die in den Vorlesungen erlernten Kenntnisse auf dieses Thema anwenden? Wir hoffen, dass wir mit unserer Präsentation auch Ihr Interesse wecken können und Sie das Thema besser verstehen werden."
   ]
  },
  {
   "cell_type": "markdown",
   "id": "1f379b61-3b1f-469a-a873-5021229aa033",
   "metadata": {},
   "source": [
    "## Business Case"
   ]
  },
  {
   "cell_type": "markdown",
   "id": "bd400abb6777edd6",
   "metadata": {},
   "source": [
    "Unser Projekt zeigt, wie datengetriebene Analysen den Umgang mit Kryptowährungen profitabler und sicherer machen können. Durch die Untersuchung von Volatilität und Handelsvolumen nach Uhrzeit und Wochentag lassen sich optimale Handelsfenster identifizieren, in denen Liquidität hoch ist und Transaktionskosten sinken. Börsen und Market-Maker können damit ihre Order-Books glätten, während Trader ihre Strategien zeitlich präziser ausrichten.\n",
    "\n",
    "Die Analyse der Preiskorrelationen innerhalb und zwischen Blockchains liefert wertvolle Hinweise für Risikostreuung und Hedging. Fondsmanager und Vermögensverwalter können Portfolios so zusammenstellen, dass sie Schwankungen einzelner Coins besser abfedern und gleichzeitig Renditepotenziale nutzen.\n",
    "\n",
    "Visualisierte Zeitreihen der Marktkapitalisierung helfen Börsenbetreibern und Emittenten bei Listungs- und Produktentscheidungen: Welche Coins gewinnen dauerhaft an Gewicht, wo lohnt ein neues Derivat oder ETF, und wann ist der richtige Zeitpunkt für eine Token-Emission?\n",
    "\n",
    "Schließlich verknüpft die Trend- und Ereignisanalyse Kursbewegungen mit regulatorischen oder politischen Nachrichten. Das unterstützt Compliance-Teams, Marketing und Research dabei, Chancen und Risiken frühzeitig zu erkennen und Kommunikations- oder Absicherungspläne gezielt umzusetzen."
   ]
  },
  {
   "cell_type": "markdown",
   "id": "ec75d1c5-3c7b-4488-8db6-c003a3cde4ed",
   "metadata": {},
   "source": [
    "## Datenerfassung und Datenvorverarbeitung"
   ]
  },
  {
   "cell_type": "markdown",
   "id": "72f4f0fd-519c-4a2d-a6f8-fd99d9e012e7",
   "metadata": {},
   "source": [
    "Für alle vier Fragestellungen greifen wir auf Live-Marktdaten mehrerer Krypto-APIs zurück – primär CoinGecko (vollständige Historie, freie Nutzung) und ergänzend die öffentlichen REST-Schnittstellen von Binance und CryptoCompare für Tick- bzw. Orderbuchdaten.\n",
    "Jedes Notebook ruft die benötigten Endpunkte über Hilfsfunktionen aus functions.py auf. Diese Helfer kapseln Authentifizierung, Pagination und Fehlerbehandlung, sodass wir den kompletten Abruf mit einem einzigen Funktionsaufruf starten können.\n",
    "\n",
    "#### Vorverarbeitungsschritte\n",
    "1. Einlesen & Typisierung\n",
    "    - CSV-Dateien werden mit pandas in DataFrames überführt, Zeitstempel sofort auf UTC normalisiert.\n",
    "2. Filter & Resampling\n",
    "    - Auswahl der benötigten Spalten (Preis, Volumen, Market Cap).\n",
    "    - Resampling auf konsistente Intervalle (Minuten → Stunden → Tage).\n",
    "3. Datenbereinigung\n",
    "    - Entfernen von Duplikaten, Sortierung nach Zeit.\n",
    "4. Merge-Operationen\n",
    "    - Zusammenführen mehrerer Coins in Wide-Tables, um Korrelationen effizient berechnen zu können.\n",
    "    - Ergänzung um externe Variablen (z. B. Leitzinsen), falls für Ereignisanalysen benötigt.\n",
    "5. Transformation & Feature-Engineering\n",
    "    - Berechnung von Volatilitätskennzahlen (σ, ATR) und gleitenden Durchschnitten.\n",
    "    - Erstellung von Log-Returns, z-Scores und Dummy-Variablen für Wochentage oder Ereignisse."
   ]
  },
  {
   "cell_type": "markdown",
   "id": "ff9815a5-47fb-4234-8b82-f11f28ac15d7",
   "metadata": {},
   "source": [
    "## Analyse der Daten"
   ]
  },
  {
   "cell_type": "markdown",
   "id": "508ffc83-a105-4a99-863b-36962f17f30c",
   "metadata": {},
   "source": [
    "In dieser Analyse richten wir den Blick auf den Kryptowährungsmarkt und möchten verstehen, warum und wann sich Kurse bewegen. Dazu untersuchen wir vier zentrale Bereiche, die sowohl für Privatanleger als auch für institutionelle Investoren von Bedeutung sind.\n",
    "\n",
    "1. Im ersten Schritt analysieren wir Volatilität und Handelsvolumen im Tages- und Wochenverlauf. Dadurch erkennen wir, zu welchen Uhrzeiten oder an welchen Wochentagen besonders starke Preisschwankungen und hohe Handelsaktivitäten auftreten.\n",
    "\n",
    "2. Im zweiten Schritt betrachten wir die Preisbewegungen innerhalb der Bitcoin-Blockchain – insbesondere den Zusammenhang zwischen Transaktionsgebühren und der Größe der Transaktionen.  Wir haben uns auf Bitcoin konzentriert, um eine fundiertere Analyse durchführen zu können.\n",
    "\n",
    "3. Anschließend folgt eine Untersuchung der Marktkapitalisierung. Diese Kennzahl zeigt, wie viel Kapital derzeit in den einzelnen Kryptowährungen gebunden ist und wie sich deren Anteil am Gesamtmarkt verändert. Grafische Darstellungen machen dabei Wachstumsschübe und Rückgänge deutlich sichtbar.\n",
    "\n",
    "4. Abschließend vergleichen wir Kursverläufe mit externen Ereignissen. Mithilfe von Trends analysieren wir, inwiefern politische Entscheidungen, regulatorische Ankündigungen oder technische Entwicklungen Einfluss auf die Preisbildung nehmen.\n",
    "\n",
    "Diese vier Analyseschritte liefern einen klaren, praxisnahen Überblick über zentrale Mechanismen des Kryptomarktes."
   ]
  },
  {
   "cell_type": "markdown",
   "id": "2899c25b-ea8e-4a36-be86-b9dc9368f6b3",
   "metadata": {},
   "source": [
    "## Lessons Learned"
   ]
  },
  {
   "cell_type": "markdown",
   "id": "d837f8ba-d9a8-49ad-ac08-9193d186798f",
   "metadata": {},
   "source": [
    "1. Aktuelle & saubere Daten sind Gold wert.  \n",
    "Wir mussten feststellen, dass schon kleine Lücken oder Zeitverschiebungen (UTC ↔ lokal) Volatilitäts-Berechnungen stark verfälschen. Ein täglicher automatischer API-Pull mit Validierung spart im Nachhinein viele Korrekturschleifen.\n",
    "2. API-Limits und Verfügbarkeit beachten.   \n",
    "Coin-APIs setzen Rate-Limits; an stark schwankenden Tagen waren Endpunkte zeitweise langsam oder down. Ein Caching-Mechanismus und Back-off-Retry-Logik haben die Pipeline stabil gehalten.\n",
    "3. Versionierung der Daten spart Nerven.    \n",
    "Indem wir jede bereinigte Datei mit Zeitstempel speicherten, konnten wir Analysen exakt reproduzieren und schnell zu älteren Ständen zurückspringen, falls ein Fehler auftauchte.\n",
    "4. Visualisierung entdeckt Anomalien schneller als Tests.   \n",
    "Heatmaps und Zeitreihen-Plots offenbarten Ausreißer (z. B. Volumen-Spikes durch Exchange-Fehler), die statistische Checks nicht sofort fanden. Ein kurzer Blick auf das Chart ersparte lange Debug-Sessions.\n",
    "5. Team-Workflows: Git & klare Rollen.  \n",
    "Paralleles Arbeiten an Notebooks führte anfangs zu Merge-Konflikten. Strikte Branch-Regeln („data-pull“, „analysis“, „report“) und tägliche Stand-ups reduzierten Doppelarbeit und Konflikte.\n",
    "Interpretation > Metrik\n",
    "6. Hohe Korrelation bedeutet nicht automatisch Kausalität.  \n",
    "Politische Ereignisse können scheinbar stabile Beziehungen abrupt ändern. Dieses Bewusstsein schützt vor Fehlinterpretationen und übermäßigem Vertrauen in historische Muster.\n",
    "7. Ausblick\n",
    "    - Realtime-Dashboards: Live-Überwachung von Volatilität und Marktbreite.\n",
    "    - Event-Study-Framework: Automatisiertes Tagging neuer Regulierungs-News, um Auswirkungen schneller bewerten zu können.\n",
    "Diese Erfahrungen zeigen, dass erfolgreiche Krypto-Analysen genauso sehr von sauberer Technik und Zusammenarbeit abhängen wie von statistischem Know-how."
   ]
  }
 ],
 "metadata": {
  "kernelspec": {
   "display_name": "Python 3 (ipykernel)",
   "language": "python",
   "name": "python3"
  },
  "language_info": {
   "codemirror_mode": {
    "name": "ipython",
    "version": 3
   },
   "file_extension": ".py",
   "mimetype": "text/x-python",
   "name": "python",
   "nbconvert_exporter": "python",
   "pygments_lexer": "ipython3",
   "version": "3.12.8"
  },
  "toc-autonumbering": false,
  "toc-showmarkdowntxt": false,
  "widgets": {
   "application/vnd.jupyter.widget-state+json": {
    "state": {},
    "version_major": 2,
    "version_minor": 0
   }
  }
 },
 "nbformat": 4,
 "nbformat_minor": 5
}
