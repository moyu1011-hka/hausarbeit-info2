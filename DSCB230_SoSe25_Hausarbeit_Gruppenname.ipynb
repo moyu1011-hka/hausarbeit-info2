{
 "cells": [
  {
   "cell_type": "markdown",
   "id": "59085cf8-0967-453b-b882-dc6d67beb7e7",
   "metadata": {},
   "source": [
    "**DSCB230 Sommersemester 2025**\n",
    "# Hausarbeit - Datenauswertung am Beispiel eines Business-Anwendungsfalls\n",
    "Data Science Portfolioprojekt"
   ]
  },
  {
   "cell_type": "markdown",
   "id": "6294f75c",
   "metadata": {},
   "source": [
    "APIs\n",
    "- https://www.coingecko.com/en/api\n",
    "- https://platform.openai.com\n",
    "- https://blockstream.info/explorer-api"
   ]
  },
  {
   "cell_type": "markdown",
   "id": "aaec91a7-5b05-44c0-98f0-7f73a9461f89",
   "metadata": {},
   "source": [
    "**DSCB230 Sommersemester 2025**\n",
    "\n",
    "# Krypto Analyse"
   ]
  },
  {
   "cell_type": "markdown",
   "id": "69b205aa-24e5-4d1a-a410-9cebab4c0844",
   "metadata": {},
   "source": [
    "Gruppe | Studierende 1  | Studierende 2 | Studierende 3       | Studierende 4      |\n",
    "------ |----------------|---------------|---------------------|--------------------|\n",
    "`Kilo` | `Lymar, Olena` | `Kot, Vadym`  | `Morkovkina, Julia` | `Shteyner, Daniil` |"
   ]
  },
  {
   "cell_type": "markdown",
   "id": "c446f94c9060261c",
   "metadata": {},
   "source": [
    "## Einleitung"
   ]
  },
  {
   "cell_type": "markdown",
   "id": "6efb547bf836235b",
   "metadata": {},
   "source": [
    "Derzeit beträgt die Marktkapitalisierung von Kryptowährungen 2,9 Billionen US-Dollar – mehr als das BIP Frankreichs.\n",
    "\n",
    "Die einen sagen, die Zukunft der Kryptowährungen sei ungewiss, andere behaupten, sie könnten das bestehende Finanzsystem revolutionieren.\n",
    "Jedenfalls: Kryptowährungen sind längst ein fester Bestandteil unseres Alltags geworden, und wir sind uns sicher, dass sich jeder von euch schon einmal mit dem Thema beschäftigt hat.\n",
    "\n",
    "Auch wir bilden da keine Ausnahme, und genau deshalb hat uns eine Frage besonders interessiert: Wie lassen sich die in den Vorlesungen erlernten Kenntnisse auf dieses Thema anwenden? Wir hoffen, dass wir mit unserer Präsentation auch Ihr Interesse wecken können und Sie das Thema besser verstehen werden."
   ]
  },
  {
   "cell_type": "markdown",
   "id": "1f379b61-3b1f-469a-a873-5021229aa033",
   "metadata": {},
   "source": [
    "## Business Case"
   ]
  },
  {
   "cell_type": "markdown",
   "id": "bd400abb6777edd6",
   "metadata": {},
   "source": [
    "Unser Ziel ist es, eine Analyse des Kryptomarktes durchzuführen. Diese stellt keine Investitionsmpfehlung dar, sondern bietet einen detaillierten Einblick in historische Daten und vermittelt ein Gesamtbild der Entwicklungen im vergangenen Jahr (oder in einem beliebigen anderen vom Nutzer gewählten Zeitraum).\n",
    "Dabei haben wir folgende Fragestellungen betrachtet:\n",
    "\n",
    "1.\tZentrale Kennzahlen von Kryptowährungen (Preis, Handelsvolumen, Volatilität und Rendite) werden analysiert und visualisiert.\n",
    "2.\tDie Transaktionsgebühr wird in Abhängigkeit vom Volumen der Bitcoin-Transaktion untersucht.\n",
    "3.\tDie Marktkapitalisierungen der größten Kryptowährungen werden visualisiert.\n",
    "4.\tFür jede größere Kursbewegung werden externe Ereignisse identifiziert, die sie beeinflusst haben."
   ]
  },
  {
   "cell_type": "markdown",
   "id": "ec75d1c5-3c7b-4488-8db6-c003a3cde4ed",
   "metadata": {},
   "source": [
    "## Datenerfassung und Datenvorverarbeitung"
   ]
  },
  {
   "cell_type": "markdown",
   "id": "72f4f0fd-519c-4a2d-a6f8-fd99d9e012e7",
   "metadata": {},
   "source": [
    "Für alle vier Fragestellungen greifen wir auf Live-Marktdaten mehrerer Krypto-APIs zurück – primär CoinGecko (vollständige Historie, freie Nutzung) und ergänzend die öffentlichen REST-Schnittstellen von Binance und CryptoCompare für Tick- bzw. Orderbuchdaten.\n",
    "\n",
    "Jedes Notebook ruft die benötigten Endpunkte über Hilfsfunktionen aus *functions.py* auf.\n",
    "\n",
    "#### Vorverarbeitungsschritte\n",
    "1.\tDie über die CoinGecko-API abgerufenen Daten zu Kryptowährungen für den angeforderten Zeitraum werden mithilfe der Funktion *fetch_token_data* in einer JSON-Datei gespeichert. Die gespeicherten Dateien befinden sich im Ordner *data* und enthalten Informationen zu Preisen, Handelsvolumen und Marktkapitalisierung sowie Zeitstempel.\n",
    "\n",
    "2.\tMithilfe der Funktion *parse_token_data* werden die Daten aus der JSON-Datei in ein DataFrame überführt. Die in UTC umgewandelte Zeitstempel dienen dabei als Index. Die Spalten enthalten Preis, Handelsvolumen und Marktkapitalisierung. Wenn die Daten älter als 7 Tage sind oder wenn der angeforderte Zeitraum kürzer als 7 Tage ist, wird die Funktion fetch_token_data erneut aufgerufen.\n",
    "\n",
    "3.\tFür die Analyse von Transaktionsgebühren werden Informationen zu Bitcoin-Blöcken direkt über die Blockstream-API abgerufen. Diese Daten werden in einer Liste von Dictionaries gespeichert und beinhalten die Block-ID, die Blockgröße, den Nonce, den Hash des vorherigen Blocks sowie weitere spezialisierte Angaben.\n",
    "\n",
    "4. Über dieselbe API wird auch die Transaktionsinformation zu jedem Block abgerufen und im JSON-Format gespeichert."
   ]
  },
  {
   "cell_type": "markdown",
   "id": "ff9815a5-47fb-4234-8b82-f11f28ac15d7",
   "metadata": {},
   "source": [
    "## Analyse der Daten"
   ]
  },
  {
   "cell_type": "markdown",
   "id": "508ffc83-a105-4a99-863b-36962f17f30c",
   "metadata": {},
   "source": [
    "Für die Datenanalyse wurde hauptsächlich die Bibliothek *pandas* verwendet, für die Visualisierung kamen *matplotlib* und *seaborn* zum Einsatz.\n",
    "Ein kurzer Überblick über die durchgeführte Analyse:\n",
    "\n",
    "--\n",
    "\n",
    "**1.1.** Preis- und Handelsvolumengrafiken mit gleitendem Durchschnitt werden erstellt. Der Nutzer kann das Token, den Zeitraum des Diagramms sowie das Fenster für den gleitenden Durchschnitt auswählen.\n",
    "\n",
    "**1.2.** Volatilität und Handelsvolumen werden in Abhängigkeit vom Wochentag berechnet und visualisiert. Dafür werden die Funktionen *calculate_volatility* und *calculate_volume* aus der Datei *functions.py* verwendet. Diese Funktionen greifen auf die Daten aus *parse_token_data* zu und geben ein DataFrame mit folgenden Spalten zurück: Datum, Wochentag und Volatilität bzw. Handelsvolumen.\n",
    "\n",
    "**1.3.** Mit *seaborn* wird eine Heatmap erstellt, die das Handelsvolumen nach Uhrzeit und Wochentag darstellt.\n",
    "\n",
    "**1.4.** Basierend auf den mit *calculate_volatility* und *calculate_volume* erhaltenen Daten wird die Korrelation zwischen Volatilität und Handelsvolumen für einen vom Nutzer gewählten Zeitraum berechnet und visualisiert.\n",
    "\n",
    "**1.5.** Mit der Funktion *sharpe_ratio* wird das Sharpe Ratio (Rendite geteilt durch Volatilität) für die größten Kryptowährungen berechnet. Die Werte werden in einem Diagramm dargestellt, um die Kryptowährungen hinsichtlich Rentabilität und Risiko zu vergleichen.\n",
    "\n",
    "**1.6.** Durchschnittliche Rendite, jährliche Volatilität und Marktkapitalisierung mehrerer führender Kryptowährungen werden berechnet und grafisch dargestellt.\n",
    "\n",
    "--\n",
    "\n",
    "**2.** Für jede Transaktion in einem Block wird das sogenannte virtuelle Volumen berechnet – eine Größe, die angibt, wie viel Platz eine Transaktion einnimmt. Anschließend wird die Gebühr pro virtuellem Byte berechnet. Auf einem mit matplotlib und seaborn erstellten Diagramm werden die durchschnittlichen Gebühren in Abhängigkeit vom Transaktionsvolumen dargestellt. Zusätzlich werden die typischen Wertebereiche für Gebühren und Transaktionsgrößen hervorgehoben. Der Nutzer kann die Anzahl der zu analysierenden Blöcke selbst wählen.\n",
    "\n",
    "--\n",
    "\n",
    "**3.1.** Mit der Funktion *plot_top_5_cryptos* wird die Marktkapitalisierung der fünf größten Kryptowährungen als Tortendiagramm dargestellt.\n",
    "\n",
    "**3.2.** Die Funktion *plot_bitcoin_marketcap_1y* erstellt ein Diagramm der Bitcoin-Marktkapitalisierung im Verlauf des letzten Jahres.\n",
    "\n",
    "**3.3.** Mit der Funktion *plot_top5_marketcap_growth* wird die prozentuale Veränderung der Marktkapitalisierung der fünf größten Kryptowährungen im gewählten Zeitraum analysiert.\n",
    "\n",
    "**3.4.**\n",
    "**3.5.**\n",
    "**3.6.** Mithilfe der Funktion *plot_news_impact_demo* wird ein Diagramm der Bitcoin-Marktkapitalisierung erstellt, auf dem Nachrichten markiert sind, die signifikante Kursbewegungen verursacht haben.\n",
    "\n",
    "--\n",
    "\n",
    "**4.1.** Die Ereignisse, die den Kurs beeinflusst haben, werden mithilfe der OpenAI API identifiziert. In der Variable *role* wird die Rolle gespeichert, die ChatGPT bei der Analyse einnimmt.\n",
    "\n",
    "**4.2.** Die Funktion *biggest_moves* nutzt die Daten aus *parse_token_data* und gibt ein DataFrame mit den größten Kursbewegungen im vom Nutzer gewählten Zeitraum zurück. Angezeigt werden Start- und Enddatum der Bewegung, Start- und Endkurs sowie die Bewegungsrichtung.\n",
    "\n",
    "**4.3.** Die Funktion *load_news* greift auf die OpenAI API zu und nutzt die Rolle role, um die wichtigsten Ereignisse zu finden, die den Kurs in den von *biggest_moves* ermittelten Zeiträumen beeinflusst haben.\n",
    "\n",
    "**4.4.** Für das vom Nutzer gewählte Kryptowährung und den gewünschten Zeitraum wird eine Liste der größten Kursbewegungen mit den zugehörigen Nachrichten angezeigt, die diese Bewegungen beeinflusst haben. Dabei werden Quellen und Vertrauenswürdigkeit der jeweiligen Nachricht mit angegeben."
   ]
  },
  {
   "cell_type": "markdown",
   "id": "2899c25b-ea8e-4a36-be86-b9dc9368f6b3",
   "metadata": {},
   "source": [
    "## Lessons Learned"
   ]
  },
  {
   "cell_type": "markdown",
   "id": "d837f8ba-d9a8-49ad-ac08-9193d186798f",
   "metadata": {},
   "source": [
    "##### **Wahl der richtigen Fragestellungen**\n",
    "Bei einem so umfassenden Thema wie Kryptowährungen war es besonders wichtig, gezielt zu entscheiden, was und wie analysiert wird, um die Arbeit strukturiert und übersichtlich zu halten. Mit anderen Worten: Einer der entscheidenden Punkte bestand darin, bewusst den Umfang der Analyze zu begrenzen.\n",
    "\n",
    "##### **Beachtung von API-Limits und Verfügbarkeit**\n",
    "Die Wahl geeigneter APIs zur Datenbeschaffung ist entscheidend. Selbst öffentlich zugängliche APIs erlauben oft nur eine begrenzte Anzahl an Anfragen. Daher ist es wichtig, Daten lokal zu speichern, wann immer dies möglich ist.\n",
    "\n",
    "##### **Organisation auf GitHub**\n",
    "Wir haben das Projekt in vier Branches aufgeteilt und diese am Ende zusammengeführt. Dadurch konnten die Aufgaben klar verteilt und Konflikte beim Pushen vermieden werden.\n",
    "\n",
    "##### **Abhängigkeit des Handelsvolumens von der Tageszeit**\n",
    "Mit Kryptowährungen wird rund um die Uhr weltweit gehandelt, doch am Samstagabend und Sonntagmorgen ist das Volumen besonders niedrig. Auch Krypto-Fans brauchen mal eine Pause!\n",
    "\n",
    "##### **Korrelation zwischen Volatilität und Handelsvolumen**\n",
    "Hohe Volatilität führt zu hohem Handelsvolumen - nicht umgekehrt. Denn bei starken Kursbewegungen versuchen viele, Gewinne zu erzielen, und handeln deshalb mehr.\n",
    "\n",
    "##### **Transaktionsgebühren und -größen**\n",
    "Interessanterweise hängt die Gebühr einer Transaktion kaum vom übertragenen Volumen ab."
   ]
  }
 ],
 "metadata": {
  "kernelspec": {
   "display_name": "Python 3 (ipykernel)",
   "language": "python",
   "name": "python3"
  },
  "language_info": {
   "codemirror_mode": {
    "name": "ipython",
    "version": 3
   },
   "file_extension": ".py",
   "mimetype": "text/x-python",
   "name": "python",
   "nbconvert_exporter": "python",
   "pygments_lexer": "ipython3",
   "version": "3.12.8"
  },
  "toc-autonumbering": false,
  "toc-showmarkdowntxt": false,
  "widgets": {
   "application/vnd.jupyter.widget-state+json": {
    "state": {},
    "version_major": 2,
    "version_minor": 0
   }
  }
 },
 "nbformat": 4,
 "nbformat_minor": 5
}
