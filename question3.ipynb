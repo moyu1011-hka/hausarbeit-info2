{
 "cells": [
  {
   "cell_type": "code",
   "execution_count": 16,
   "id": "25bb207f",
   "metadata": {},
   "outputs": [],
   "source": [
    "from datetime import date, timedelta, datetime\n",
    "import pandas as pd\n",
    "import matplotlib.pyplot as plt\n",
    "import numpy as np\n",
    "from scipy.stats import pearsonr\n",
    "import seaborn as sns\n",
    "import streamlit as st\n",
    "import requests\n",
    "import matplotlib.pyplot as plt"
   ]
  },
  {
   "cell_type": "code",
   "execution_count": null,
   "id": "92729bd1",
   "metadata": {},
   "outputs": [
    {
     "name": "stderr",
     "output_type": "stream",
     "text": [
      "2025-05-19 17:50:37.105 Thread 'MainThread': missing ScriptRunContext! This warning can be ignored when running in bare mode.\n",
      "2025-05-19 17:50:37.106 Thread 'MainThread': missing ScriptRunContext! This warning can be ignored when running in bare mode.\n",
      "2025-05-19 17:50:37.107 Thread 'MainThread': missing ScriptRunContext! This warning can be ignored when running in bare mode.\n",
      "2025-05-19 17:50:37.108 Thread 'MainThread': missing ScriptRunContext! This warning can be ignored when running in bare mode.\n",
      "2025-05-19 17:50:37.109 Thread 'MainThread': missing ScriptRunContext! This warning can be ignored when running in bare mode.\n",
      "2025-05-19 17:50:37.109 Thread 'MainThread': missing ScriptRunContext! This warning can be ignored when running in bare mode.\n",
      "2025-05-19 17:50:37.110 Thread 'MainThread': missing ScriptRunContext! This warning can be ignored when running in bare mode.\n"
     ]
    }
   ],
   "source": [
    "import requests\n",
    "import matplotlib.pyplot as plt\n",
    "\n",
    "def get_top_5_coins():\n",
    "    url = \"https://api.coingecko.com/api/v3/coins/markets\"\n",
    "    params = {\n",
    "        \"vs_currency\": \"usd\",\n",
    "        \"order\": \"market_cap_desc\",\n",
    "        \"per_page\": 5,\n",
    "        \"page\": 1\n",
    "    }\n",
    "    response = requests.get(url, params=params)\n",
    "    if response.status_code == 200:\n",
    "        return response.json()  # a list of dicts\n",
    "    else:\n",
    "        st.error(f\"Error fetching data: {response.status_code}\")\n",
    "        return []\n",
    "\n",
    "def get_volume_data(coins):\n",
    "    labels = []\n",
    "    volumes = []\n",
    "    for coin in coins:\n",
    "        if isinstance(coin, dict):  # Extra safety check\n",
    "            name = coin.get('name', 'Unknown')\n",
    "            volume = coin.get('total_volume', 0)\n",
    "            labels.append(name)\n",
    "            volumes.append(volume)\n",
    "        else:\n",
    "            st.warning(f\"Unexpected data format: {coin}\")\n",
    "    return labels, volumes\n",
    "\n",
    "def plot_pie_chart(labels, volumes):\n",
    "    fig, ax = plt.subplots(figsize=(8,6))\n",
    "    ax.pie(volumes, labels=labels, autopct='%1.1f%%', startangle=140)\n",
    "    ax.set_title('Top 5 Cryptocurrencies by 24h Trading Volume')\n",
    "    ax.axis('equal')\n",
    "    return fig\n",
    "\n",
    "# Streamlit UI\n",
    "\n"
   ]
  },
  {
   "cell_type": "code",
   "execution_count": 21,
   "id": "f67b2d09",
   "metadata": {},
   "outputs": [
    {
     "name": "stderr",
     "output_type": "stream",
     "text": [
      "2025-05-19 17:50:41.326 Thread 'MainThread': missing ScriptRunContext! This warning can be ignored when running in bare mode.\n",
      "2025-05-19 17:50:41.327 Thread 'MainThread': missing ScriptRunContext! This warning can be ignored when running in bare mode.\n",
      "2025-05-19 17:50:41.328 Thread 'MainThread': missing ScriptRunContext! This warning can be ignored when running in bare mode.\n",
      "2025-05-19 17:50:41.329 Thread 'MainThread': missing ScriptRunContext! This warning can be ignored when running in bare mode.\n",
      "2025-05-19 17:50:41.330 Thread 'MainThread': missing ScriptRunContext! This warning can be ignored when running in bare mode.\n",
      "2025-05-19 17:50:41.330 Thread 'MainThread': missing ScriptRunContext! This warning can be ignored when running in bare mode.\n",
      "2025-05-19 17:50:41.330 Thread 'MainThread': missing ScriptRunContext! This warning can be ignored when running in bare mode.\n",
      "2025-05-19 17:50:41.330 Thread 'MainThread': missing ScriptRunContext! This warning can be ignored when running in bare mode.\n",
      "2025-05-19 17:50:41.524 Thread 'MainThread': missing ScriptRunContext! This warning can be ignored when running in bare mode.\n",
      "2025-05-19 17:50:41.651 Thread 'MainThread': missing ScriptRunContext! This warning can be ignored when running in bare mode.\n",
      "2025-05-19 17:50:41.651 Thread 'MainThread': missing ScriptRunContext! This warning can be ignored when running in bare mode.\n"
     ]
    },
    {
     "data": {
      "text/plain": [
       "DeltaGenerator()"
      ]
     },
     "execution_count": 21,
     "metadata": {},
     "output_type": "execute_result"
    }
   ],
   "source": [
    "st.title(\"Analysis of the most popular cryptocurrencies over the past 30 days\")\n",
    "coin = st.selectbox(\"Choose the crurrency\", [\"bitcoin\", \"ethereum\", \"solana\", \"ripple\", \"cardano\"])\n",
    "\n",
    "# get data from CoinGecko\n",
    "url = f\"https://api.coingecko.com/api/v3/coins/{coin}/market_chart\"\n",
    "params = {\"vs_currency\": \"usd\", \"days\": \"30\"}\n",
    "response = requests.get(url, params=params).json()\n",
    "\n",
    "# parse data\n",
    "prices = response[\"prices\"]\n",
    "dates = [x[0] for x in prices]\n",
    "values = [x[1] for x in prices]\n",
    "\n",
    "# Build the graph\n",
    "fig, ax = plt.subplots()\n",
    "ax.plot(values)\n",
    "ax.set_title(f\"Cost of {coin} for the last 30 days\")\n",
    "st.pyplot(fig)"
   ]
  }
 ],
 "metadata": {
  "kernelspec": {
   "display_name": "Python 3",
   "language": "python",
   "name": "python3"
  },
  "language_info": {
   "codemirror_mode": {
    "name": "ipython",
    "version": 3
   },
   "file_extension": ".py",
   "mimetype": "text/x-python",
   "name": "python",
   "nbconvert_exporter": "python",
   "pygments_lexer": "ipython3",
   "version": "3.11.9"
  }
 },
 "nbformat": 4,
 "nbformat_minor": 5
}
