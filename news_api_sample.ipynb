{
 "cells": [
  {
   "cell_type": "code",
   "execution_count": 1,
   "metadata": {},
   "outputs": [
    {
     "name": "stdout",
     "output_type": "stream",
     "text": [
      "                                                                 title  \\\n",
      "published_on                                                             \n",
      "2025-01-10 22:58:58  Heritage Distilling Plans to Explore Bitcoin H...   \n",
      "2025-01-10 22:57:36  This Publicly Traded Distiller Is Launching a ...   \n",
      "2025-01-10 22:55:42  World Breaks Major Milestone, Verifies Over 10...   \n",
      "2025-01-10 22:39:00  Doge’s Alt Rally (DOGEALTS) Solana Memecoin Wi...   \n",
      "2025-01-10 22:32:05  Kenya Prepares to Legalize Cryptocurrencies: R...   \n",
      "\n",
      "                                                                  body  \n",
      "published_on                                                            \n",
      "2025-01-10 22:58:58  Heritage Distilling’s recent decision to hold ...  \n",
      "2025-01-10 22:57:36  The Nasdaq-listed Heritage Distilling said it ...  \n",
      "2025-01-10 22:55:42  Sam Altman’s World project, once called Worldc...  \n",
      "2025-01-10 22:39:00  Doge’s Alt Rally could turn early investors in...  \n",
      "2025-01-10 22:32:05  Kenya is set to introduce legislation to legal...  \n"
     ]
    }
   ],
   "source": [
    "import requests, pandas as pd, datetime as dt \n",
    "\n",
    "key = '4cd6289528ff34abc13da393cc1f90bf1596ef5e62b6d4a832b2cc94847ee13b'\n",
    "\n",
    "CC_KEY = key       # can also be blank (anon) until you hit 100 k calls\n",
    "\n",
    "def cc_news(category, lts, page_size=0):\n",
    "    url = \"https://min-api.cryptocompare.com/data/v2/news/\"\n",
    "  \n",
    "    params = { 'lang' : \"EN\",\n",
    "                'lTs' : lts,\n",
    "                'limit' : 5,\n",
    "                'sortOrder' : 'popular',\n",
    "                'categories': category, \n",
    "                'api_key' : CC_KEY,\n",
    "                'pg': page_size\n",
    "            }\n",
    "    \n",
    "    headers = {\n",
    "        'Content-type' : 'application/json',\n",
    "        'charset' : 'UTF-8'\n",
    "    }\n",
    "    response = requests.get(url, params=params, headers=headers)\n",
    "    return response.json()\n",
    "\n",
    "\n",
    "cutoff = int(dt.datetime(2025,1,10,23,59).timestamp())   # upper-bound = oldest spike\n",
    "btc_headlines = cc_news(\"bitcoin dead\", cutoff)\n",
    "\n",
    "news = pd.DataFrame(btc_headlines['Data'], columns=['published_on', 'title', 'body'])\n",
    "news['published_on'] = pd.to_datetime(news['published_on'], unit='s')\n",
    "news.set_index('published_on', inplace=True)\n",
    "\n",
    "print(news.head(5))"
   ]
  }
 ],
 "metadata": {
  "kernelspec": {
   "display_name": "base",
   "language": "python",
   "name": "python3"
  },
  "language_info": {
   "codemirror_mode": {
    "name": "ipython",
    "version": 3
   },
   "file_extension": ".py",
   "mimetype": "text/x-python",
   "name": "python",
   "nbconvert_exporter": "python",
   "pygments_lexer": "ipython3",
   "version": "3.12.7"
  }
 },
 "nbformat": 4,
 "nbformat_minor": 2
}
